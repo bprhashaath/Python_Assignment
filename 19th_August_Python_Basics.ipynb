{
  "nbformat": 4,
  "nbformat_minor": 0,
  "metadata": {
    "colab": {
      "provenance": []
    },
    "kernelspec": {
      "name": "python3",
      "display_name": "Python 3"
    },
    "language_info": {
      "name": "python"
    }
  },
  "cells": [
    {
      "cell_type": "code",
      "source": [
        "#Swap the values of these variables without using any temporary variable.\n",
        "x = 10\n",
        "y = 20\n",
        "\n",
        "x,y = y,x\n",
        "\n",
        "print (x,y)"
      ],
      "metadata": {
        "id": "VlSfcpjAAmCU",
        "colab": {
          "base_uri": "https://localhost:8080/"
        },
        "outputId": "c1ad011d-4843-42ca-e841-5d02f8943fb5"
      },
      "execution_count": null,
      "outputs": [
        {
          "output_type": "stream",
          "name": "stdout",
          "text": [
            "20 10\n"
          ]
        }
      ]
    },
    {
      "cell_type": "code",
      "source": [
        "# Create a program that calculates the area of a rectangle. Take the length and width as inputs from the user and store them in variables. Calculate and display the area.\n",
        "\n",
        "length = int(input(\"Please enter the value of length \"))\n",
        "width  = int(input(\"Please enter the value of width \"))\n",
        "area = length * width\n",
        "print(\"Area of  the rectangle =\", area)"
      ],
      "metadata": {
        "colab": {
          "base_uri": "https://localhost:8080/"
        },
        "id": "y0KsfHllxdhp",
        "outputId": "b39a051f-d853-47f5-b115-d55802e0c974"
      },
      "execution_count": null,
      "outputs": [
        {
          "output_type": "stream",
          "name": "stdout",
          "text": [
            "Please enter the value of length 10\n",
            "Please enter the value of width 20\n",
            "Area of  the rectangle = 200\n"
          ]
        }
      ]
    },
    {
      "cell_type": "code",
      "source": [
        "#converts temperatures from Celsius to Fahrenheit.\n",
        "C = int(input(\"Please enter the celsius value \"))\n",
        "F = (9/5)*C + 32\n",
        "print(\"Farenheit value is:\", F)"
      ],
      "metadata": {
        "colab": {
          "base_uri": "https://localhost:8080/"
        },
        "id": "qWEMQJLZxjV0",
        "outputId": "79d41a09-0ae7-4e69-d233-b3735d3c3a42"
      },
      "execution_count": null,
      "outputs": [
        {
          "output_type": "stream",
          "name": "stdout",
          "text": [
            "Please enter the celsius value 45\n",
            "Farenheit value is: 113.0\n"
          ]
        }
      ]
    },
    {
      "cell_type": "code",
      "source": [
        "# Write a Python program that takes a string as input and prints the length of the string.\n",
        "\n",
        "A = str(input(\"Please enter your input text \"))\n",
        "print(\"The length of string is:\", len(A))"
      ],
      "metadata": {
        "colab": {
          "base_uri": "https://localhost:8080/"
        },
        "id": "qa3aTU6cx3du",
        "outputId": "ec6f3a1a-442c-4e2b-8cd9-189239683d9c"
      },
      "execution_count": null,
      "outputs": [
        {
          "output_type": "stream",
          "name": "stdout",
          "text": [
            "Please enter your input text apply for the job\n",
            "The length of string is: 17\n"
          ]
        }
      ]
    },
    {
      "cell_type": "code",
      "source": [
        "# Function to count vowels in a sentence\n",
        "\n",
        "def count_vowels(sentence):\n",
        "    vowel_count = 0\n",
        "    sentence = sentence.lower()\n",
        "    vowels = set(\"aeiou\")\n",
        "    for char in sentence:\n",
        "        if char in vowels:\n",
        "            vowel_count += 1\n",
        "\n",
        "    return vowel_count\n",
        "\n",
        "user_sentence = input(\"Enter a sentence: \")\n",
        "result = count_vowels(user_sentence)\n",
        "print(\"Number of vowels in the sentence:\", result)\n"
      ],
      "metadata": {
        "colab": {
          "base_uri": "https://localhost:8080/"
        },
        "id": "GTrUEo1EyRbY",
        "outputId": "4f626865-d625-42b1-b9a8-e5427a06ebf8"
      },
      "execution_count": null,
      "outputs": [
        {
          "output_type": "stream",
          "name": "stdout",
          "text": [
            "Enter a sentence: Maruca is company\n",
            "Number of vowels in the sentence: 6\n"
          ]
        }
      ]
    },
    {
      "cell_type": "code",
      "source": [
        "# Given a string, reverse the order of characters using string slicing and print the reversed string\n",
        "\n",
        "x = str(input(\"Please enter your input text \"))\n",
        "print(\"Reversed string is:\", x[500000000::-1])"
      ],
      "metadata": {
        "colab": {
          "base_uri": "https://localhost:8080/"
        },
        "id": "myc_cwQjycfB",
        "outputId": "79862584-d033-4a4e-b5df-9083a9696e88"
      },
      "execution_count": null,
      "outputs": [
        {
          "output_type": "stream",
          "name": "stdout",
          "text": [
            "Please enter your input text reversed string\n",
            "Reversed string is: gnirts desrever\n"
          ]
        }
      ]
    },
    {
      "cell_type": "code",
      "source": [
        "# that takes a string as input and removes all the spaces from it. Print the modified string without spaces.\n",
        "\n",
        "x = str(input(\"Please enter your input text \"))\n",
        "print(x.replace(\" \", \"\"))"
      ],
      "metadata": {
        "id": "FsiJRtnPzViG"
      },
      "execution_count": null,
      "outputs": []
    }
  ]
}